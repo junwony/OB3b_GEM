{
 "cells": [
  {
   "cell_type": "code",
   "execution_count": null,
   "id": "74778579-900a-46c0-8290-093efce1f3c9",
   "metadata": {
    "tags": []
   },
   "outputs": [],
   "source": [
    "import copy\n",
    "import re\n",
    "import pandas as pd\n",
    "import numpy as np\n",
    "\n",
    "import gurobipy as gp\n",
    "from gurobipy import GRB\n",
    "\n",
    "import cobra\n",
    "\n",
    "cobra_config = cobra.Configuration()\n",
    "cobra_config.solver = \"gurobi\"\n",
    "\n",
    "ModelDir = '/Users/junwon/Library/CloudStorage/OneDrive-Umich/GEM_OB3b/model/'\n",
    "TpmDir = '/Users/junwon/Library/CloudStorage/OneDrive-Umich/GEM_OB3b/multi_omics/transcriptomic/'"
   ]
  },
  {
   "cell_type": "markdown",
   "id": "6486b481-33a7-4fda-83e4-6e61f1abeac7",
   "metadata": {
    "tags": []
   },
   "source": [
    "# Functions"
   ]
  },
  {
   "cell_type": "markdown",
   "id": "ea750900-bbb9-42df-b61b-a4a67bc812b1",
   "metadata": {},
   "source": [
    "## make_irreversible"
   ]
  },
  {
   "cell_type": "code",
   "execution_count": null,
   "id": "fa35a95c-0ef3-4ff9-b258-99cae6994608",
   "metadata": {
    "tags": []
   },
   "outputs": [],
   "source": [
    "def make_irreversible(cobra_model):\n",
    "    \"\"\"\n",
    "    Convert a COBRApy model to be irreversible.\n",
    "    :param cobra_model: COBRApy model written in SBML3\n",
    "    :return: irreversible COBRApy model\n",
    "    \"\"\"\n",
    "    irr_cobra_model = copy.deepcopy(cobra_model)\n",
    "    reactions = list(irr_cobra_model.reactions)\n",
    "    for r in reactions:\n",
    "        if r.lower_bound < 0 < r.upper_bound:\n",
    "            # If the reaction can go both ways, split it into two irreversible reactions\n",
    "            new_rxn_fwd = cobra.Reaction(r.id + '_fwd')\n",
    "            new_rxn_rev = cobra.Reaction(r.id + '_rev')\n",
    "            new_rxn_fwd.gene_reaction_rule = r.gene_reaction_rule\n",
    "            new_rxn_rev.gene_reaction_rule = r.gene_reaction_rule\n",
    "            for met, coeff in r.metabolites.items():\n",
    "                new_rxn_fwd.add_metabolites({met: coeff})\n",
    "                new_rxn_rev.add_metabolites({met: -coeff})\n",
    "            new_rxn_fwd.lower_bound = 0\n",
    "            new_rxn_fwd.upper_bound = r.upper_bound\n",
    "            new_rxn_rev.lower_bound = 0\n",
    "            new_rxn_rev.upper_bound = -r.lower_bound\n",
    "            irr_cobra_model.add_reactions([new_rxn_fwd, new_rxn_rev])\n",
    "            r.remove_from_model()\n",
    "        elif r.lower_bound < 0 and r.upper_bound == 0:            \n",
    "            # If the reaction only goes in the reverse direction, flip the reaction direction\n",
    "            r.lower_bound, r.upper_bound = r.upper_bound, -r.lower_bound\n",
    "            for met, coeff in r.metabolites.items():\n",
    "                r.add_metabolites({met: -2 * coeff})\n",
    "\n",
    "    return irr_cobra_model"
   ]
  },
  {
   "cell_type": "markdown",
   "id": "38200c14-3178-41bf-bc2d-d570ac2fe7b5",
   "metadata": {},
   "source": [
    "## get_matrix"
   ]
  },
  {
   "cell_type": "code",
   "execution_count": null,
   "id": "1dac4651-15ac-4463-a8e8-fd759e7255c1",
   "metadata": {
    "tags": []
   },
   "outputs": [],
   "source": [
    "def get_matrix(cobra_model):\n",
    "    \"\"\"\n",
    "    Create Numpy stoichiometric matrix from COBRApy model\n",
    "    :param cobra_model: COBRApy model written in SBML3\n",
    "    :return: Numpy stoichiometric matrix, columns with reactions and rows with metabolites\n",
    "    \"\"\"\n",
    "\n",
    "    met_remove_list = []\n",
    "    for metabolite in cobra_model.metabolites:\n",
    "        if len(metabolite.reactions) == 0:\n",
    "            met_remove_list.append(metabolite)\n",
    "    cobra_model.remove_metabolites(met_remove_list)\n",
    "\n",
    "    matrix = np.zeros((len(list(cobra_model.metabolites)), len(list(cobra_model.reactions))))\n",
    "\n",
    "    for j, rxn in enumerate(list(cobra_model.reactions)):\n",
    "        for met, coeff in rxn.metabolites.items():\n",
    "            i = list(cobra_model.metabolites).index(met)\n",
    "            matrix[i, j] = coeff\n",
    "\n",
    "    return matrix"
   ]
  },
  {
   "cell_type": "markdown",
   "id": "7f8a7f49-7d2d-4b1f-af45-cf2402acbb4e",
   "metadata": {},
   "source": [
    "## map_expression_to_reaction"
   ]
  },
  {
   "cell_type": "code",
   "execution_count": null,
   "id": "fdbd7135-a57b-46f6-8b42-849020fbd505",
   "metadata": {
    "tags": []
   },
   "outputs": [],
   "source": [
    "def map_expression_to_single_rule(rule, operator, expression):\n",
    "    \"\"\"\n",
    "    Map expression for single gene-reaction-rule. The Rules that have genes bound with parenthesis should not be used\n",
    "    :param rule: gene-reactions-rule\n",
    "    :param operator: either one of 'and' or 'or'\n",
    "    :param expression: Pandas dataframe first column with gene ID and second column with expression value\n",
    "    :return: expression value (float) mapped to the input rule\n",
    "    \"\"\"\n",
    "    single_rule = re.split(r'\\s', rule)\n",
    "    expr_values = []\n",
    "    genes = [k for k in single_rule if k != operator]\n",
    "\n",
    "    for gene in genes:\n",
    "        try:\n",
    "            gene = float(gene)\n",
    "            expr_values.append(gene)\n",
    "        except:\n",
    "            if gene in list(expression.gene):\n",
    "                gene_index = list(expression.gene).index(gene)\n",
    "                expr_values.append(float(expression.iloc[gene_index, 1]))\n",
    "            else:\n",
    "                expr_values.append(float(0))\n",
    "    \n",
    "    if operator == 'and':\n",
    "        single_rule_value = min(expr_values)\n",
    "    else: # operator == 'or'\n",
    "        single_rule_value = max(expr_values)\n",
    "\n",
    "    return single_rule_value\n",
    "\n",
    "def map_expression_to_reaction(model, expression):\n",
    "    \"\"\"\n",
    "    Map expression values to all reactions in the model.\n",
    "    The reactions with missing gene-reaction-rule have Nan.\n",
    "    The genes with missing expression value will be replaced to zero.\n",
    "    :param model: COBRApy metabolic model written and read as SBML3 (.xml)\n",
    "    :param expression: Pandas dataframe first column with gene ID and second column with expression value\n",
    "    :return: Pandas dataframe first column with reaction ID and second column with mapped expression value\n",
    "    \"\"\"\n",
    "    rxn_expression_dict = {}\n",
    "\n",
    "    for r in model.reactions:\n",
    "        rule = r.gene_reaction_rule\n",
    "        num_sub_rules = rule.count('(')\n",
    "        if rule == \"\":\n",
    "            rxn_expression_dict[r.id] = np.nan\n",
    "\n",
    "        elif num_sub_rules == 0:\n",
    "\n",
    "            if 'and' in rule:\n",
    "                final_rule_value = map_expression_to_single_rule(rule, 'and', expression)\n",
    "\n",
    "            else:  # 'or' in rule:\n",
    "                final_rule_value = map_expression_to_single_rule(rule, 'or', expression)\n",
    "\n",
    "            rxn_expression_dict[r.id] = final_rule_value\n",
    "\n",
    "        else:\n",
    "            while num_sub_rules != 0:\n",
    "                open_index = [i for i, character in enumerate(rule) if character == '(']\n",
    "                close_index = [i for i, character in enumerate(rule) if character == ')']\n",
    "                combined_index = open_index + close_index\n",
    "                combined_index.sort()\n",
    "                lowest_level = {}\n",
    "                for i in range(len(combined_index)):\n",
    "\n",
    "                    if combined_index[i] in open_index and combined_index[i + 1] in close_index:\n",
    "                        sub_rule = rule[combined_index[i] + 1:combined_index[i + 1]]\n",
    "\n",
    "                        if 'and' in sub_rule:\n",
    "                            sub_rule_value = map_expression_to_single_rule(sub_rule, 'and', expression)\n",
    "                        else:  # 'or' in sub_rule:\n",
    "                            sub_rule_value = map_expression_to_single_rule(sub_rule, 'or', expression)\n",
    "\n",
    "                        lowest_level[rule[combined_index[i]:combined_index[i + 1] + 1]] = sub_rule_value\n",
    "\n",
    "                for key in list(lowest_level.keys()):\n",
    "                    rule = rule.replace(key, str(lowest_level[key]))\n",
    "\n",
    "                num_sub_rules = rule.count('(')\n",
    "\n",
    "            if 'and' in rule:\n",
    "                final_rule_value = map_expression_to_single_rule(rule, 'and', expression)\n",
    "            else:  # 'or' in final_rule:\n",
    "                final_rule_value = map_expression_to_single_rule(rule, 'or', expression)\n",
    "\n",
    "            rxn_expression_dict[r.id] = final_rule_value\n",
    "\n",
    "    rxn_expression_df = pd.DataFrame.from_dict(rxn_expression_dict, orient='index', columns=['value'])\n",
    "    return rxn_expression_df"
   ]
  },
  {
   "cell_type": "markdown",
   "id": "e4c1ad38-511d-4364-bfdf-4198667a0b0b",
   "metadata": {
    "tags": []
   },
   "source": [
    "# Creating Gurobi model: test with sMMO model"
   ]
  },
  {
   "cell_type": "code",
   "execution_count": null,
   "id": "ea0d1d16-668c-4a82-b257-0d15a357ac49",
   "metadata": {
    "tags": []
   },
   "outputs": [],
   "source": [
    "md = cobra.io.read_sbml_model(ModelDir + 'GEM_ADVE_OB3b_sMMO.xml')\n",
    "md.reactions.EX_cpd00007_e0.bounds = (-21.2,0)\n",
    "md.reactions.EX_cpd01024_e0.bounds = (-1000,0)\n",
    "md.reactions.NGAM_c0.bounds = (25.3,25.3)"
   ]
  },
  {
   "cell_type": "markdown",
   "id": "a36757d6-2124-4db7-82e7-46d5a7d3d317",
   "metadata": {},
   "source": [
    "## Generate met-rxn matrix"
   ]
  },
  {
   "cell_type": "code",
   "execution_count": null,
   "id": "0cb8ccf2-fc56-4340-939b-def085c828fd",
   "metadata": {
    "tags": []
   },
   "outputs": [],
   "source": [
    "md_matrix = get_matrix(md)"
   ]
  },
  {
   "cell_type": "markdown",
   "id": "1b2fb66d-60f1-4e77-99ec-4b21ee9eabd2",
   "metadata": {},
   "source": [
    "## Gurobi empty model to add vars/contrs/obj"
   ]
  },
  {
   "cell_type": "code",
   "execution_count": null,
   "id": "a2732d60-d989-4843-aec4-9478387598e2",
   "metadata": {
    "tags": []
   },
   "outputs": [],
   "source": [
    "gp_md = gp.Model(name = 'sMMO_gurobi_model')\n",
    "gp_md"
   ]
  },
  {
   "cell_type": "markdown",
   "id": "8186251d-1a27-493f-bf57-06ea6ce7c151",
   "metadata": {},
   "source": [
    "## Create/add variables to model"
   ]
  },
  {
   "cell_type": "code",
   "execution_count": null,
   "id": "723cc0a6-2565-4f2b-92e6-8f6d55eb3f0e",
   "metadata": {
    "tags": []
   },
   "outputs": [],
   "source": [
    "n_rxns = len(md.reactions)\n",
    "rxn_id = [rxn.id for rxn in md.reactions]\n",
    "rxn_lb = [rxn.lower_bound for rxn in md.reactions]\n",
    "rxn_ub = [rxn.upper_bound for rxn in md.reactions]\n",
    "\n",
    "gp_vars = gp_md.addVars(n_rxns, lb = rxn_lb, ub = rxn_ub, name = rxn_id)\n",
    "gp_md.update()\n",
    "gp_md\n",
    "\n",
    "#### This also works\n",
    "# for reaction in list(md.reactions):\n",
    "#     if reaction.id == 'bio1_biomass':\n",
    "#         gp_md.addVar(lb=reaction.lower_bound, ub=reaction.upper_bound, obj = 0.0, name = reaction.id)\n",
    "#     else:\n",
    "#         gp_md.addVar(lb=reaction.lower_bound, ub=reaction.upper_bound, obj = 0.0, name = reaction.id)\n",
    "# gp_md.update()\n",
    "# gp_md\n"
   ]
  },
  {
   "cell_type": "markdown",
   "id": "ce0c455a-3d31-4024-8223-e2718abb671b",
   "metadata": {},
   "source": [
    "## Create/add constraints to model"
   ]
  },
  {
   "cell_type": "code",
   "execution_count": null,
   "id": "e5d547ad-4053-471f-89c4-5e21a8419a12",
   "metadata": {
    "tags": []
   },
   "outputs": [],
   "source": [
    "for n_row, row in enumerate(md_matrix):\n",
    "    nonzero_indices = np.nonzero(row)[0]\n",
    "    constraints_list = [md_matrix[n_row, rxn_index] * gp_vars[rxn_index] for rxn_index in nonzero_indices]\n",
    "    # constraints_list = []\n",
    "    # for rxn_index in nonzero_indices:\n",
    "    #     coeff = md_matrix[n_row, rxn_index]\n",
    "    #     variable = gurobi_variables[rxn_index]\n",
    "    #     constraints_list.append(coeff * variable)\n",
    "    gp_md.addConstr(sum(constraints_list) == 0)\n",
    "\n",
    "gp_md.update()\n",
    "gp_md"
   ]
  },
  {
   "cell_type": "markdown",
   "id": "9bd5d1d5-c237-48b8-98e8-78b182c7d364",
   "metadata": {},
   "source": [
    "## Set objective"
   ]
  },
  {
   "cell_type": "code",
   "execution_count": null,
   "id": "08fe7453-4512-4c78-a3c2-93bb630d472c",
   "metadata": {
    "tags": []
   },
   "outputs": [],
   "source": [
    "print(gp_md.getVarByName('bio1_biomass').obj)\n",
    "gp_obj = gp.LinExpr(1*gp_md.getVarByName('bio1_biomass'))\n",
    "gp_md.setObjective(expr = gp_obj, sense = GRB.MAXIMIZE)\n",
    "gp_md.update()\n",
    "print(gp_md.getVarByName('bio1_biomass').obj)"
   ]
  },
  {
   "cell_type": "markdown",
   "id": "404473d3-daa9-4c08-8a20-42a58099899c",
   "metadata": {},
   "source": [
    "## Optimize model"
   ]
  },
  {
   "cell_type": "code",
   "execution_count": null,
   "id": "99aad3fa-685a-4623-9d9a-cf7eb7f6eb72",
   "metadata": {
    "tags": []
   },
   "outputs": [],
   "source": [
    "gp_md_sol = gp_md.optimize()"
   ]
  },
  {
   "cell_type": "code",
   "execution_count": null,
   "id": "2e6bdc6a-145b-4b49-a8c5-f6d54f9e171d",
   "metadata": {
    "tags": []
   },
   "outputs": [],
   "source": [
    "gp_md.ObjVal"
   ]
  },
  {
   "cell_type": "code",
   "execution_count": null,
   "id": "153a7a54-e264-43be-a90a-2a06a8f38c2b",
   "metadata": {},
   "outputs": [],
   "source": []
  },
  {
   "cell_type": "markdown",
   "id": "64928bbb-beaa-44eb-a1b9-a0099d1a7a11",
   "metadata": {},
   "source": [
    "# GIMME application using gurobipy"
   ]
  },
  {
   "cell_type": "code",
   "execution_count": null,
   "id": "e18d14ee-0ee1-4031-94eb-880a99b4da28",
   "metadata": {
    "tags": []
   },
   "outputs": [],
   "source": [
    "def gimme(md, obj_id, obj_fraction, expression, threshold):\n",
    "    '''\n",
    "    md: cobra model\n",
    "    \n",
    "    obj_id: objective function id in model\n",
    "    \n",
    "    obj_fraction: objective fraction to be optimized\n",
    "    \n",
    "    expression: pandas dataframe with two columns of gene_id and corresponding value, e.g., TPM or FPKM\n",
    "    \n",
    "    threshold: gene expression value threshold\n",
    "    \n",
    "    [TEST LOG]\n",
    "    \n",
    "    March 26, 2024: function was tested and returned same result from the Matlab GIMME, where inputs were\n",
    "        \n",
    "        md = cobra.io.read_sbml_model(ModelDir + 'GEM_ADVE_OB3b_sMMO.xml')\n",
    "        obj_id = 'bio1_bioamss'\n",
    "        obj_fraction = 0.9\n",
    "        expression = pd.read_csv(TpmDir + 'TPM_con1_NoCu_NoCe.csv', sep=',', index_col=None)\n",
    "        threshold = 300\n",
    "    \n",
    "    \n",
    "    '''\n",
    "    ### Copy input model\n",
    "    gimme_md = copy.deepcopy(md)\n",
    "    \n",
    "    \n",
    "    ### Initial optimization and set lower bound with input fraction\n",
    "    md_pfba = cobra.flux_analysis.pfba(md)\n",
    "    md.reactions.get_by_id(obj_id).bounds = (obj_fraction * md_pfba.fluxes.loc[obj_id], 1000)\n",
    "    \n",
    "    ### create irreversible model, stoichiometic matrix, map expression to reactions\n",
    "    irr_md = make_irreversible(md)\n",
    "    irr_md_matrix = get_matrix(irr_md)\n",
    "    irr_tpm_mapped_df = map_expression_to_reaction(irr_md, expression)\n",
    "    \n",
    "    \n",
    "    ### Generate gurobi model to solve for GIMME\n",
    "\n",
    "    # Model frame\n",
    "    gp_gimme_md = gp.Model(name = 'Gurobipy_model_GIMME')\n",
    "    \n",
    "    # Add variables\n",
    "    n_rxns = len(irr_md.reactions)\n",
    "    rxn_id = [rxn.id for rxn in irr_md.reactions]\n",
    "    rxn_lb = [rxn.lower_bound for rxn in irr_md.reactions]\n",
    "    rxn_ub = [rxn.upper_bound for rxn in irr_md.reactions]\n",
    "    gp_gimme_vars = gp_gimme_md.addVars(n_rxns, lb = rxn_lb, ub = rxn_ub, name = rxn_id)\n",
    "    \n",
    "    # Add constraints\n",
    "    for n_row, row in enumerate(irr_md_matrix):\n",
    "        nonzero_indices = np.nonzero(row)[0]\n",
    "        constraints_list = [irr_md_matrix[n_row, rxn_index] * gp_gimme_vars[rxn_index] for rxn_index in nonzero_indices]\n",
    "        gp_gimme_md.addConstr(sum(constraints_list) == 0)\n",
    "    \n",
    "    # Add objective coefficient\n",
    "    c_array = np.zeros(len(irr_md.reactions))\n",
    "    for rxn_ind, rxn in enumerate(irr_md.reactions):\n",
    "        if rxn.id in irr_tpm_mapped_df.index and irr_tpm_mapped_df.loc[rxn.id, 'value'] < threshold:\n",
    "            c_array[rxn_ind] = threshold - irr_tpm_mapped_df.loc[rxn.id, 'value']\n",
    "    \n",
    "    # Add objective\n",
    "    objectives_list = []\n",
    "    for rxn_ind in range(len(irr_md.reactions)):\n",
    "        objectives_list.append(c_array[rxn_ind] * gp_gimme_vars[rxn_ind])\n",
    "    gp_gimme_obj = gp.LinExpr(sum(objectives_list))\n",
    "    gp_gimme_md.setObjective(expr = gp_gimme_obj, sense = GRB.MINIMIZE)\n",
    "    \n",
    "    gp_gimme_md.update()\n",
    "    \n",
    "    # Solve GIMME\n",
    "    gp_gimme_md_sol = gp_gimme_md.optimize()\n",
    "    \n",
    "    ### Find reactions that can be deleted in the model\n",
    "    irr_reaction_activity_dict = {}\n",
    "\n",
    "    for i in gp_gimme_vars:\n",
    "\n",
    "        if gp_gimme_vars[i].VarName in irr_tpm_mapped_df.index and irr_tpm_mapped_df.loc[gp_gimme_vars[i].VarName, 'value'] > threshold:\n",
    "            irr_reaction_activity_dict[gp_gimme_vars[i].VarName] = 1\n",
    "\n",
    "        elif gp_gimme_vars[i].VarName not in irr_tpm_mapped_df.index:\n",
    "            irr_reaction_activity_dict[gp_gimme_vars[i].VarName] = 2\n",
    "\n",
    "        elif gp_gimme_vars[i].X > 0:\n",
    "            irr_reaction_activity_dict[gp_gimme_vars[i].VarName] = 3\n",
    "\n",
    "        else:\n",
    "            irr_reaction_activity_dict[gp_gimme_vars[i].VarName] = 0\n",
    "\n",
    "    \n",
    "    reaction_activity_array = np.zeros(len(md.reactions))\n",
    "\n",
    "    for rxn_index, rxn in enumerate(md.reactions):\n",
    "\n",
    "        rxn_reversibility = rxn.lower_bound * rxn.upper_bound\n",
    "\n",
    "        if rxn_reversibility >= 0:\n",
    "            reaction_activity_array[rxn_index] = irr_reaction_activity_dict[rxn.id]\n",
    "\n",
    "        else:\n",
    "            rxn_activity = max(irr_reaction_activity_dict[rxn.id + '_fwd'],\n",
    "                               irr_reaction_activity_dict[rxn.id + '_rev'])\n",
    "            reaction_activity_array[rxn_index] = rxn_activity\n",
    "    \n",
    "    ### Remove non-essential reactions and return modified cobra model\n",
    "    rxn_list_to_remove = []\n",
    "    for rxn_index, activity in enumerate(reaction_activity_array):\n",
    "        if activity == 0:\n",
    "            rxn_list_to_remove.append(gimme_md.reactions[rxn_index])\n",
    "    \n",
    "    gimme_md.remove_reactions(rxn_list_to_remove, remove_orphans=True)\n",
    "    \n",
    "    ### Return GIMME model and inconsistency score\n",
    "    return gimme_md, gp_gimme_md.ObjVal\n",
    "    "
   ]
  },
  {
   "cell_type": "code",
   "execution_count": null,
   "id": "c3f17e42-886b-4369-948f-7a936c01b493",
   "metadata": {},
   "outputs": [],
   "source": [
    "smmo = ModelDir + \"GEM_ADVE_OB3b_sMMO.xml\"\n",
    "pmmo_ra = ModelDir + \"GEM_ADVE_OB3b_pMMO_RA.xml\"\n",
    "pmmo_ut = ModelDir + \"GEM_ADVE_OB3b_pMMO_UT.xml\"\n",
    "pmmo_dc = ModelDir + \"GEM_ADVE_OB3b_pMMO_DC.xml\"\n",
    "\n",
    "avg_tpm = [27, 34, 25, 45]\n",
    "\n",
    "c_assim = ['rxn07847_c0','rxn07848_c0','rxn37236_c0','rxn02480_c0','rxn02431_c0','rxn07849_c0','rxn00371_c0',\n",
    "           'rxn00690_c0','rxn01211_c0','rxn00907_c0','rxn12217_c0', 'rxn00692_c0']\n",
    "phb_syn = ['rxn00992_c0','rxn00290_c0','phb_polymerase_c0', 'phb_depolymerase_c0']\n",
    "ser_cyc = ['rxn00424_c0','rxn01011_c0','rxn01013_c0','rxn01102_c0',\n",
    "           'rxn01106_c0','rxn00459_c0','rxn00251_c0','rxn00248_c0', 'rxn00934_c0', 'rxn00331_c0']\n",
    "tca_cyc = ['rxn00256_c0','rxn00974_c0','rxn01388_c0','rxn00198_c0','rxn08094_c0']\n",
    "emc_cyc = ['rxn00178_c0','rxn01451_c0','rxn01453_c0','rxn02345_c0',\n",
    "           'rxn02167_c0','rxn16150_c0','rxn16825_c0','rxn16151_c0','rxn25269_c0',\n",
    "           'rxn03440_c0','rxn00682_c0','rxn01355_c0','rxn01996_c0','rxn00602_c0', 'rxn00285_c0', 'rxn09272_c0','rxn00799_c0']\n",
    "pyr_met = ['rxn00147_c0','rxn00148_c0','rxn00151_c0','rxn00154_c0','rxn00161_c0']\n",
    "n_assim = ['rxn00182_c0', 'rxn00184_c0', 'rxn00085_c0', 'rxn00187_c0', 'rxn00568_c0', 'rxn00569_c0', 'rxn00572_c0', 'rxn10120_c0']\n",
    "\n",
    "central_rxns = c_assim + phb_syn + ser_cyc + tca_cyc + emc_cyc + pyr_met + n_assim"
   ]
  },
  {
   "cell_type": "code",
   "execution_count": null,
   "id": "d591a329-03df-4e69-a830-c77c0b09a23b",
   "metadata": {
    "tags": []
   },
   "outputs": [],
   "source": [
    "expression = pd.read_csv(TpmDir + 'TPM_con1_NoCu_NoCe.csv', sep=',', index_col=None)\n",
    "tpm_threshold = 27\n",
    "\n",
    "md = cobra.io.read_sbml_model(smmo)\n",
    "md.reactions.EX_cpd00007_e0.bounds = (-21.2,0)\n",
    "md.reactions.EX_cpd01024_e0.bounds = (-1000,0)\n",
    "md.reactions.NGAM_c0.bounds = (25.3,25.3)\n",
    "\n",
    "gimme_md, inconsistency = gimme(md, 'bio1_biomass', 0.9, expression, tpm_threshold)\n",
    "\n",
    "# nn = no Cu + no Ce\n",
    "cobra.io.write_sbml_model(gimme_md, ModelDir + 'tpm_integrated_model/' + 'gimme_nn.xml')"
   ]
  },
  {
   "cell_type": "code",
   "execution_count": null,
   "id": "b42562e9-8a34-41ae-98db-b011197c0940",
   "metadata": {
    "tags": []
   },
   "outputs": [],
   "source": [
    "expression = pd.read_csv(TpmDir + 'TPM_con3_NoCu_YesCe.csv', sep=',', index_col=None)\n",
    "tpm_threshold = 25\n",
    "\n",
    "md = cobra.io.read_sbml_model(smmo)\n",
    "md.reactions.EX_cpd00007_e0.bounds = (-21.2,0)\n",
    "md.reactions.EX_cpd01024_e0.bounds = (-1000,0)\n",
    "md.reactions.NGAM_c0.bounds = (25.3,25.3)\n",
    "\n",
    "gimme_md, inconsistency = gimme(md, 'bio1_biomass', 0.9, expression, tpm_threshold)\n",
    "\n",
    "# nn = no Cu + yes Ce\n",
    "cobra.io.write_sbml_model(gimme_md, ModelDir + 'tpm_integrated_model/' + 'gimme_ny.xml')"
   ]
  },
  {
   "cell_type": "code",
   "execution_count": null,
   "id": "faa97e16-111d-4a61-8c17-2617222b9b8b",
   "metadata": {
    "tags": []
   },
   "outputs": [],
   "source": [
    "pmmo_md = [pmmo_ra, pmmo_ut, pmmo_dc]\n",
    "gimme_name = ['gimme_yn_ra.xml', 'gimme_yn_ut.xml', 'gimme_yn_dc.xml']\n",
    "expression = pd.read_csv(TpmDir + 'TPM_con2_YesCu_NoCe.csv', sep=',', index_col=None)\n",
    "tpm_threshold = 34\n",
    "\n",
    "for md_file, name in zip(pmmo_md, gimme_name):\n",
    "    md = cobra.io.read_sbml_model(md_file)\n",
    "    md.reactions.EX_cpd00007_e0.bounds = (-21.2,0)\n",
    "    md.reactions.EX_cpd01024_e0.bounds = (-1000,0)\n",
    "    md.reactions.NGAM_c0.bounds = (25.3,25.3)\n",
    "    \n",
    "    gimme_md, inconsistency = gimme(md, 'bio1_biomass', 0.9, expression, tpm_threshold)\n",
    "\n",
    "    cobra.io.write_sbml_model(gimme_md, ModelDir + 'tpm_integrated_model/' + name)\n"
   ]
  },
  {
   "cell_type": "code",
   "execution_count": null,
   "id": "fc084c87-17ee-454a-b2dd-3d3c62ca5f2f",
   "metadata": {
    "tags": []
   },
   "outputs": [],
   "source": [
    "pmmo_md = [pmmo_ra, pmmo_ut, pmmo_dc]\n",
    "gimme_name = ['gimme_yy_ra.xml', 'gimme_yy_ut.xml', 'gimme_yy_dc.xml']\n",
    "expression = pd.read_csv(TpmDir + 'TPM_con4_YesCu_YesCe.csv', sep=',', index_col=None)\n",
    "tpm_threshold = 45\n",
    "\n",
    "for md_file, name in zip(pmmo_md, gimme_name):\n",
    "    md = cobra.io.read_sbml_model(md_file)\n",
    "    md.reactions.EX_cpd00007_e0.bounds = (-21.2,0)\n",
    "    md.reactions.EX_cpd01024_e0.bounds = (-1000,0)\n",
    "    md.reactions.NGAM_c0.bounds = (25.3,25.3)\n",
    "    \n",
    "    gimme_md, inconsistency = gimme(md, 'bio1_biomass', 0.9, expression, tpm_threshold)\n",
    "\n",
    "    cobra.io.write_sbml_model(gimme_md, ModelDir + 'tpm_integrated_model/' + name)\n"
   ]
  },
  {
   "cell_type": "markdown",
   "id": "3440f735-e523-40de-bdc6-d871b685aed8",
   "metadata": {},
   "source": [
    "# OptGene model preparation"
   ]
  },
  {
   "cell_type": "code",
   "execution_count": null,
   "id": "c5091ec1-4443-4e9f-a159-d6385457d96a",
   "metadata": {
    "tags": []
   },
   "outputs": [],
   "source": [
    "smmo = ModelDir + \"GEM_ADVE_OB3b_sMMO.xml\"\n",
    "pmmo_ra = ModelDir + \"GEM_ADVE_OB3b_pMMO_RA.xml\"\n",
    "pmmo_ut = ModelDir + \"GEM_ADVE_OB3b_pMMO_UT.xml\"\n",
    "pmmo_dc = ModelDir + \"GEM_ADVE_OB3b_pMMO_DC.xml\"\n",
    "\n",
    "gimme_nn = ModelDir + \"tpm_integrated_model/gimme_nn.xml\"\n",
    "gimme_ny = ModelDir + \"tpm_integrated_model/gimme_ny.xml\"\n",
    "gimme_yn_ra = ModelDir + \"tpm_integrated_model/gimme_yn_ra.xml\"\n",
    "gimme_yn_ut = ModelDir + \"tpm_integrated_model/gimme_yn_ut.xml\"\n",
    "gimme_yn_dc = ModelDir + \"tpm_integrated_model/gimme_yn_dc.xml\"\n",
    "gimme_yy_ra = ModelDir + \"tpm_integrated_model/gimme_yy_ra.xml\"\n",
    "gimme_yy_ut = ModelDir + \"tpm_integrated_model/gimme_yy_ut.xml\"\n",
    "gimme_yy_dc = ModelDir + \"tpm_integrated_model/gimme_yy_dc.xml\"\n",
    "\n",
    "model_files = [\n",
    "    smmo, pmmo_ra, pmmo_ut, pmmo_dc,\n",
    "    gimme_nn, gimme_ny, \n",
    "    gimme_yn_ra, gimme_yn_ut, gimme_yn_dc, \n",
    "    gimme_yy_ra, gimme_yy_ut, gimme_yy_dc\n",
    "]\n",
    "model_names = [\n",
    "    'gk_smmo', 'gk_pmmo_ra', 'gk_pmmo_ut', 'gk_pmmo_dc',\n",
    "    'gk_gimme_nn', 'gk_gimme_ny', \n",
    "    'gk_gimme_yn_ra', 'gk_gimme_yn_ut', 'gk_gimme_yn_dc', \n",
    "    'gk_gimme_yy_ra', 'gk_gimme_yy_ut', 'gk_gimme_yy_dc'\n",
    "]\n",
    "\n",
    "for file, name in zip(model_files, model_names):\n",
    "    \n",
    "    md = cobra.io.read_sbml_model(file)\n",
    "    \n",
    "    md.reactions.EX_cpd00007_e0.bounds = (-21.2,0)\n",
    "    md.reactions.EX_cpd01024_e0.bounds = (-1000,0)\n",
    "    md.reactions.NGAM_c0.bounds = (25.3,25.3)\n",
    "\n",
    "    putrescine_export = cobra.Reaction(\"putrescine_export\")\n",
    "    putrescine_export.name = 'putrescine_export'\n",
    "    putrescine_export.lower_bound = 0\n",
    "    putrescine_export.upper_bound = 1000\n",
    "    putrescine_export.add_metabolites({\n",
    "        md.metabolites.get_by_id('cpd00118_c0'): -1.0\n",
    "    })\n",
    "    # putrescine_export.gene_reaction_rule = ''\n",
    "    md.add_reactions([putrescine_export])\n",
    "\n",
    "    cobra.io.write_sbml_model(md, ModelDir + 'optgene_model/' + name + '.xml')\n"
   ]
  }
 ],
 "metadata": {
  "kernelspec": {
   "display_name": "Python 3 (ipykernel)",
   "language": "python",
   "name": "python3"
  },
  "language_info": {
   "codemirror_mode": {
    "name": "ipython",
    "version": 3
   },
   "file_extension": ".py",
   "mimetype": "text/x-python",
   "name": "python",
   "nbconvert_exporter": "python",
   "pygments_lexer": "ipython3",
   "version": "3.9.13"
  },
  "toc-autonumbering": false,
  "toc-showcode": false,
  "toc-showmarkdowntxt": true
 },
 "nbformat": 4,
 "nbformat_minor": 5
}
